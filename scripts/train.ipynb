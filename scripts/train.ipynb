{
 "cells": [
  {
   "cell_type": "markdown",
   "metadata": {},
   "source": [
    "# Train the agents \n",
    "\n",
    "this file contains the required code to train the agents. Training is done using the stable-baselines library. \n",
    "\n",
    "The thesis explores the use of two training algorithms, namely the A2C and PPO methods. \n"
   ]
  },
  {
   "cell_type": "code",
   "execution_count": null,
   "metadata": {},
   "outputs": [],
   "source": [
    "import gym\n",
    "import numpy as np\n",
    "\n",
    "from stable_baselines.sac.policies import MlpPolicy , CnnPolicy , LnMlpPolicy \n",
    "\n",
    "from stable_baselines.common.policies import MlpPolicy as MlpPolicyCommon\n",
    "from stable_baselines.common.policies import CnnPolicy as CnnPolicyCommon\n",
    "from stable_baselines.common.policies import MlpLnLstmPolicy , CnnLnLstmPolicy , LstmPolicy \n",
    "from stable_baselines.bench import Monitor\n",
    "from stable_baselines.common.vec_env import SubprocVecEnv\n",
    "from stable_baselines.common.evaluation import evaluate_policy\n",
    "from stable_baselines import PPO1\n",
    "from stable_baselines import SAC\n",
    "\n",
    "\n",
    "from stable_baselines.common import make_vec_env\n",
    "from stable_baselines import A2C\n",
    "from stable_baselines import ACKTR\n",
    "\n",
    "from stable_baselines.ddpg import NormalActionNoise\n",
    "import matplotlib.pyplot as plt\n",
    "\n",
    "from stable_baselines.common.policies import FeedForwardPolicy, register_policy\n",
    "\n",
    "from stable_baselines.common.callbacks import CheckpointCallback\n",
    "from pathlib import Path\n",
    "from stable_baselines import PPO1\n",
    "\n",
    "import os, logging\n",
    "\n"
   ]
  },
  {
   "cell_type": "code",
   "execution_count": null,
   "metadata": {
    "scrolled": true
   },
   "outputs": [],
   "source": [
    "# to make this work the Frankfurt-v0 environment must be instaled and data available. \n",
    "import gym \n",
    "import envs\n",
    "env = gym.make('Frankfurt-v0')\n"
   ]
  },
  {
   "cell_type": "code",
   "execution_count": null,
   "metadata": {},
   "outputs": [],
   "source": [
    "#[128, dict(vf=[256], pi=[16])]\n",
    "net_arch_final = [  256  , dict( vf = [ 128 , 128] , pi = [ 128 , 128 , 107 ] )  ],\n",
    "# this defines the policies used by the algorithms \n",
    "class CustomPolicyPPO(FeedForwardPolicy):\n",
    "    def __init__(self, *args, **kwargs):\n",
    "        super(CustomPolicyPPO, self).__init__(*args, **kwargs,\n",
    "                                           net_arch = [  256, dict( vf = [ 128 , 128] , pi = [ 128 , 128 , 107 ] )  ] ,\n",
    "                                           feature_extraction=\"mlp\")\n",
    "class CustomPolicyCnnPPO(CnnPolicyCommon):\n",
    "    def __init__(self, *args, **kwargs):\n",
    "        super(CustomPolicyCnnPPO, self).__init__(*args, **kwargs,\n",
    "                                           net_arch = [  128, dict( vf = [ 128 , 128] , pi = [ 128 , 128 , 107 ] )  ] ,\n",
    "                                           )\n",
    "        \n",
    "class MLPLSTMPolicyFinal( LstmPolicy ):\n",
    "    def __init__(self, sess, ob_space, ac_space, n_env, n_steps, n_batch, n_lstm=64, reuse=False, **_kwargs):\n",
    "        super().__init__(sess, ob_space, ac_space, n_env, n_steps, n_batch, n_lstm, reuse,\n",
    "                         net_arch=[  256 , 256 ,  \"lstm\"  , dict( vf = [ 128 , 128] , pi = [ 256 , 256 , 107 ] )  ],\n",
    "                         layer_norm=True, feature_extraction=\"mlp\", **_kwargs)\n",
    "        \n",
    "        "
   ]
  },
  {
   "cell_type": "code",
   "execution_count": null,
   "metadata": {},
   "outputs": [],
   "source": [
    "def train( policy , checkpoint_dir , tensorboard_log_dir ,  name_prefix , tb_name ,  monitor_dir , steps = 6000000 ):\n",
    "    Path(checkpoint_dir).mkdir(parents=True, exist_ok=True)\n",
    "    Path(tensorboard_log_dir).mkdir(parents=True, exist_ok=True)\n",
    "    Path(monitor_dir).mkdir(parents=True, exist_ok=True)\n",
    "    checkpoint_callback = CheckpointCallback(save_freq=50000, save_path=checkpoint_dir, name_prefix=name_prefix )\n",
    "    #envs = make_vec_env('Frankfurt-v0', n_envs=4)\n",
    "    cpu = 4\n",
    "    \n",
    "    #envs = SubprocVecEnv([lambda : Monitor( env , monitor_dir  ) for _ in range(cpu)])\n",
    "    envs = make_vec_env('Frankfurt-v0', n_envs=4)\n",
    "    model = A2C( policy, envs, gamma = 1.0 , verbose=1  , seed = 666 , learning_rate = 1e-5 , full_tensorboard_log=True , tensorboard_log=tensorboard_log_dir)    \n",
    "    #model = PPO1( policy, env , gamma = 1.0 , verbose=1  , seed = 666, full_tensorboard_log=True , tensorboard_log=tensorboard_log_dir , n_cpu_tf_sess = 4 )\n",
    "    model.learn(total_timesteps=steps , tb_log_name = tb_name ,callback=checkpoint_callback , log_interval=10000)\n",
    "    model.save(\"../model_final/{}\".format( tb_name ) )\n",
    "    \n",
    "    return model"
   ]
  },
  {
   "cell_type": "code",
   "execution_count": null,
   "metadata": {},
   "outputs": [],
   "source": [
    "# train and save the policy \n",
    "m = train(MLPLSTMPolicyFinal , \"../model_checkpoints/ppo_lstm_rw2_6M\" , \"../tensorboard_logs/ppo_lstm_rw2_6M\" , \"ppo_lstm_prw2_6M\" , \"ppo_lstm_rw2_6M\" , \"../monitor/ppo_lstm_rw2_6M\"   )\n"
   ]
  },
  {
   "cell_type": "code",
   "execution_count": null,
   "metadata": {},
   "outputs": [],
   "source": []
  }
 ],
 "metadata": {
  "kernelspec": {
   "display_name": "Python 3",
   "language": "python",
   "name": "python3"
  },
  "language_info": {
   "codemirror_mode": {
    "name": "ipython",
    "version": 3
   },
   "file_extension": ".py",
   "mimetype": "text/x-python",
   "name": "python",
   "nbconvert_exporter": "python",
   "pygments_lexer": "ipython3",
   "version": "3.7.6"
  }
 },
 "nbformat": 4,
 "nbformat_minor": 4
}
